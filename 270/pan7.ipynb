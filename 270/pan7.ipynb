{
 "cells": [
  {
   "cell_type": "markdown",
   "metadata": {},
   "source": [
    "# 第7章 確率的トレンドとは何か？\n",
    "## 7.4 ランダムウォークの判定"
   ]
  },
  {
   "cell_type": "code",
   "execution_count": 1,
   "metadata": {},
   "outputs": [
    {
     "name": "stderr",
     "output_type": "stream",
     "text": [
      "C:\\Users\\moriya\\Anaconda2\\lib\\site-packages\\statsmodels\\compat\\pandas.py:56: FutureWarning: The pandas.core.datetools module is deprecated and will be removed in a future version. Please use the pandas.tseries module instead.\n",
      "  from pandas.core import datetools\n"
     ]
    }
   ],
   "source": [
    "%matplotlib inline\n",
    "import matplotlib.pyplot as plt\n",
    "import statsmodels.api as sm\n",
    "import pandas_datareader.data as web\n",
    "import numpy as np\n",
    "end='2019/12/30'\n",
    "lnn225 = np.log(web.DataReader(\"NIKKEI225\", 'fred',\"1949/5/16\",end)).dropna()"
   ]
  },
  {
   "cell_type": "code",
   "execution_count": 2,
   "metadata": {},
   "outputs": [
    {
     "name": "stdout",
     "output_type": "stream",
     "text": [
      "2.38799860708\n",
      "0.997153864781\n",
      "38\n",
      "17044\n",
      "{'5%': -1.9410157707887057, '1%': -2.565871190612659, '10%': -1.6168044261410237}\n"
     ]
    }
   ],
   "source": [
    "print(sm.tsa.adfuller(lnn225.NIKKEI225,regression='nc')[0])#検定統計量\n",
    "print(sm.tsa.adfuller(lnn225.NIKKEI225,regression='nc')[1])#p-値\n",
    "print(sm.tsa.adfuller(lnn225.NIKKEI225,regression='nc')[2])#ラグの数\n",
    "print(sm.tsa.adfuller(lnn225.NIKKEI225,regression='nc')[3])#データの数\n",
    "print(sm.tsa.adfuller(lnn225.NIKKEI225,regression='nc')[4])#臨界値"
   ]
  },
  {
   "cell_type": "code",
   "execution_count": 3,
   "metadata": {},
   "outputs": [
    {
     "name": "stdout",
     "output_type": "stream",
     "text": [
      "0.753014670885\n"
     ]
    }
   ],
   "source": [
    "print(sm.tsa.adfuller(lnn225.NIKKEI225,regression='ct')[1])"
   ]
  },
  {
   "cell_type": "code",
   "execution_count": 4,
   "metadata": {},
   "outputs": [
    {
     "name": "stdout",
     "output_type": "stream",
     "text": [
      "0.125071866391\n"
     ]
    }
   ],
   "source": [
    "print(sm.tsa.adfuller(lnn225.NIKKEI225,regression='c')[1])"
   ]
  },
  {
   "cell_type": "code",
   "execution_count": 5,
   "metadata": {},
   "outputs": [
    {
     "name": "stdout",
     "output_type": "stream",
     "text": [
      "17044\n"
     ]
    }
   ],
   "source": [
    "print(sm.tsa.adfuller(lnn225.NIKKEI225,regression='c')[3])"
   ]
  },
  {
   "cell_type": "code",
   "execution_count": 6,
   "metadata": {},
   "outputs": [
    {
     "name": "stdout",
     "output_type": "stream",
     "text": [
      "{'5%': -2.8617095933204473, '1%': -3.4307337294729021, '10%': -2.5668602701718335}\n"
     ]
    }
   ],
   "source": [
    "print(sm.tsa.adfuller(lnn225.NIKKEI225,regression='c')[4])"
   ]
  },
  {
   "cell_type": "code",
   "execution_count": 7,
   "metadata": {},
   "outputs": [
    {
     "name": "stdout",
     "output_type": "stream",
     "text": [
      "(-2.461705722576955, 0.12507186639069184)\n"
     ]
    }
   ],
   "source": [
    "print(sm.tsa.adfuller(lnn225.NIKKEI225,regression='c')[:2])"
   ]
  },
  {
   "cell_type": "code",
   "execution_count": 8,
   "metadata": {},
   "outputs": [
    {
     "name": "stdout",
     "output_type": "stream",
     "text": [
      "0.997153864781\n"
     ]
    }
   ],
   "source": [
    "print(sm.tsa.adfuller(lnn225.NIKKEI225,regression='nc')[1])"
   ]
  },
  {
   "cell_type": "code",
   "execution_count": 9,
   "metadata": {},
   "outputs": [
    {
     "name": "stdout",
     "output_type": "stream",
     "text": [
      "0.50433866797\n"
     ]
    }
   ],
   "source": [
    "print(sm.tsa.adfuller(lnn225.NIKKEI225.loc[:'1954/11/30'],regression='ct')[1])"
   ]
  },
  {
   "cell_type": "code",
   "execution_count": 10,
   "metadata": {},
   "outputs": [
    {
     "name": "stdout",
     "output_type": "stream",
     "text": [
      "0.903086924527\n"
     ]
    }
   ],
   "source": [
    "print(sm.tsa.adfuller(lnn225.NIKKEI225.loc[:'1954/11/30'],regression='c')[1])"
   ]
  },
  {
   "cell_type": "code",
   "execution_count": 11,
   "metadata": {},
   "outputs": [
    {
     "name": "stdout",
     "output_type": "stream",
     "text": [
      "0.895822001571\n"
     ]
    }
   ],
   "source": [
    "print(sm.tsa.adfuller(lnn225.NIKKEI225.loc[:'1954/11/30'],regression='nc')[1])"
   ]
  },
  {
   "cell_type": "code",
   "execution_count": 12,
   "metadata": {},
   "outputs": [
    {
     "name": "stdout",
     "output_type": "stream",
     "text": [
      "0.615588208256\n"
     ]
    }
   ],
   "source": [
    "print(sm.tsa.adfuller(lnn225.NIKKEI225.loc['1954/12/1':'1971/12/31'],regression='ct')[1])"
   ]
  },
  {
   "cell_type": "code",
   "execution_count": 13,
   "metadata": {},
   "outputs": [
    {
     "name": "stdout",
     "output_type": "stream",
     "text": [
      "0.480043863331\n"
     ]
    }
   ],
   "source": [
    "print(sm.tsa.adfuller(lnn225.NIKKEI225.loc['1954/12/1':'1971/12/31'],regression='c')[1])"
   ]
  },
  {
   "cell_type": "code",
   "execution_count": 14,
   "metadata": {},
   "outputs": [
    {
     "name": "stdout",
     "output_type": "stream",
     "text": [
      "0.999689754599\n"
     ]
    }
   ],
   "source": [
    "print(sm.tsa.adfuller(lnn225.NIKKEI225.loc['1954/12/1':'1971/12/31'],regression='nc')[1])"
   ]
  },
  {
   "cell_type": "code",
   "execution_count": 15,
   "metadata": {},
   "outputs": [
    {
     "name": "stdout",
     "output_type": "stream",
     "text": [
      "0.84024093729\n"
     ]
    }
   ],
   "source": [
    "print(sm.tsa.adfuller(lnn225.NIKKEI225.loc['1972/1/1':'1986/11/30'],regression='ct')[1])"
   ]
  },
  {
   "cell_type": "code",
   "execution_count": 16,
   "metadata": {},
   "outputs": [
    {
     "name": "stdout",
     "output_type": "stream",
     "text": [
      "0.96175537736\n"
     ]
    }
   ],
   "source": [
    "print(sm.tsa.adfuller(lnn225.NIKKEI225.loc['1972/1/1':'1986/11/30'],regression='c')[1])"
   ]
  },
  {
   "cell_type": "code",
   "execution_count": 17,
   "metadata": {},
   "outputs": [
    {
     "name": "stdout",
     "output_type": "stream",
     "text": [
      "0.999996991887\n"
     ]
    }
   ],
   "source": [
    "print(sm.tsa.adfuller(lnn225.NIKKEI225.loc['1972/1/1':'1986/11/30'],regression='nc')[1])"
   ]
  },
  {
   "cell_type": "code",
   "execution_count": 18,
   "metadata": {},
   "outputs": [
    {
     "name": "stdout",
     "output_type": "stream",
     "text": [
      "0.312378263485\n"
     ]
    }
   ],
   "source": [
    "print(sm.tsa.adfuller(lnn225.NIKKEI225.loc['1986/12/1':'1989/12/31'],regression='ct')[1])"
   ]
  },
  {
   "cell_type": "code",
   "execution_count": 19,
   "metadata": {},
   "outputs": [
    {
     "name": "stdout",
     "output_type": "stream",
     "text": [
      "0.768377939279\n"
     ]
    }
   ],
   "source": [
    "print(sm.tsa.adfuller(lnn225.NIKKEI225.loc['1986/12/1':'1989/12/31'],regression='c')[1])"
   ]
  },
  {
   "cell_type": "code",
   "execution_count": 20,
   "metadata": {},
   "outputs": [
    {
     "name": "stdout",
     "output_type": "stream",
     "text": [
      "0.999525130045\n"
     ]
    }
   ],
   "source": [
    "print(sm.tsa.adfuller(lnn225.NIKKEI225.loc['1986/12/1':'1989/12/31'],regression='nc')[1])"
   ]
  },
  {
   "cell_type": "code",
   "execution_count": 21,
   "metadata": {},
   "outputs": [
    {
     "name": "stdout",
     "output_type": "stream",
     "text": [
      "0.40816834782\n"
     ]
    }
   ],
   "source": [
    "print(sm.tsa.adfuller(lnn225.NIKKEI225.loc['1986/12/1':'1993/10/30'],regression='ct')[1])"
   ]
  },
  {
   "cell_type": "code",
   "execution_count": 22,
   "metadata": {},
   "outputs": [
    {
     "name": "stdout",
     "output_type": "stream",
     "text": [
      "0.614194333311\n"
     ]
    }
   ],
   "source": [
    "print(sm.tsa.adfuller(lnn225.NIKKEI225.loc['1986/12/1':'1993/10/30'],regression='c')[1])"
   ]
  },
  {
   "cell_type": "code",
   "execution_count": 23,
   "metadata": {},
   "outputs": [
    {
     "name": "stdout",
     "output_type": "stream",
     "text": [
      "0.71409077222\n"
     ]
    }
   ],
   "source": [
    "print(sm.tsa.adfuller(lnn225.NIKKEI225.loc['1986/12/1':'1993/10/30'],regression='nc')[1])"
   ]
  },
  {
   "cell_type": "code",
   "execution_count": 24,
   "metadata": {},
   "outputs": [
    {
     "name": "stdout",
     "output_type": "stream",
     "text": [
      "0.620086823201\n"
     ]
    }
   ],
   "source": [
    "print(sm.tsa.adfuller(lnn225.NIKKEI225.loc[:'1993/10/30'],regression='ct')[1])"
   ]
  },
  {
   "cell_type": "code",
   "execution_count": 25,
   "metadata": {},
   "outputs": [
    {
     "name": "stdout",
     "output_type": "stream",
     "text": [
      "0.652008364051\n"
     ]
    }
   ],
   "source": [
    "print(sm.tsa.adfuller(lnn225.NIKKEI225.loc[:'1993/10/30'],regression='c')[1])"
   ]
  },
  {
   "cell_type": "code",
   "execution_count": 26,
   "metadata": {},
   "outputs": [
    {
     "name": "stdout",
     "output_type": "stream",
     "text": [
      "0.999821116797\n"
     ]
    }
   ],
   "source": [
    "print(sm.tsa.adfuller(lnn225.NIKKEI225.loc[:'1993/10/30'],regression='nc')[1])"
   ]
  },
  {
   "cell_type": "code",
   "execution_count": 27,
   "metadata": {},
   "outputs": [
    {
     "name": "stdout",
     "output_type": "stream",
     "text": [
      "0.906923219358\n"
     ]
    }
   ],
   "source": [
    "print(sm.tsa.adfuller(lnn225.NIKKEI225.loc['1993/10/30':],regression='ct')[1])"
   ]
  },
  {
   "cell_type": "code",
   "execution_count": 28,
   "metadata": {},
   "outputs": [
    {
     "name": "stdout",
     "output_type": "stream",
     "text": [
      "0.541394716595\n"
     ]
    }
   ],
   "source": [
    "print(sm.tsa.adfuller(lnn225.NIKKEI225.loc['1993/10/30':],regression='c')[1])"
   ]
  },
  {
   "cell_type": "code",
   "execution_count": 29,
   "metadata": {},
   "outputs": [
    {
     "name": "stdout",
     "output_type": "stream",
     "text": [
      "0.741465531024\n"
     ]
    }
   ],
   "source": [
    "print(sm.tsa.adfuller(lnn225.NIKKEI225.loc['1993/10/30':],regression='nc')[1])"
   ]
  },
  {
   "cell_type": "code",
   "execution_count": 30,
   "metadata": {},
   "outputs": [
    {
     "name": "stdout",
     "output_type": "stream",
     "text": [
      "0.0739555163473\n"
     ]
    }
   ],
   "source": [
    "print(sm.tsa.adfuller(lnn225.NIKKEI225.loc['1990/1/1':'1992/8/31'],regression='nc')[1])"
   ]
  },
  {
   "cell_type": "code",
   "execution_count": 31,
   "metadata": {},
   "outputs": [
    {
     "name": "stdout",
     "output_type": "stream",
     "text": [
      "0.442806176355\n"
     ]
    }
   ],
   "source": [
    "print(sm.tsa.adfuller(lnn225.NIKKEI225.loc['1990/1/1':'1992/8/31'],regression='c')[1])"
   ]
  },
  {
   "cell_type": "code",
   "execution_count": 32,
   "metadata": {},
   "outputs": [
    {
     "name": "stdout",
     "output_type": "stream",
     "text": [
      "0.323414633113\n"
     ]
    }
   ],
   "source": [
    "print(sm.tsa.adfuller(lnn225.NIKKEI225.loc['1990/1/1':'1992/8/31'],regression='ct')[1])"
   ]
  },
  {
   "cell_type": "code",
   "execution_count": 33,
   "metadata": {},
   "outputs": [
    {
     "name": "stdout",
     "output_type": "stream",
     "text": [
      "('without drift  ', 2.8599929646518734e-05)\n",
      "('with drift  ', 0.0015017923444852305, -0.00014360915155268433)\n",
      "('with drift + time trend  ', 0.0017008871728121165, -0.00017980155762129652, 1.2540320684538366e-08)\n"
     ]
    }
   ],
   "source": [
    "z=lnn225\n",
    "y=z.diff().dropna()\n",
    "x=z.shift(1).dropna()\n",
    "model=sm.OLS(y,x)\n",
    "results=model.fit()\n",
    "print(\"without drift  \",results.params[0])\n",
    "x=sm.add_constant(x)\n",
    "model=sm.OLS(y,x)\n",
    "results=model.fit()\n",
    "print(\"with drift  \",results.params[0],results.params[1])\n",
    "x[\"t\"]=range(len(y))\n",
    "model=sm.OLS(y,x)\n",
    "results=model.fit()\n",
    "print(\"with drift + time trend  \",results.params[0],results.params[1],results.params[2])"
   ]
  },
  {
   "cell_type": "code",
   "execution_count": 34,
   "metadata": {},
   "outputs": [
    {
     "name": "stdout",
     "output_type": "stream",
     "text": [
      "('nc  ', NIKKEI225    0.000082\n",
      "dtype: float64)\n",
      "('c  ', 0.0010158563190787971, -0.00010764780610967526)\n",
      "('ct  ', 0.015455834378998157, -0.0034833277649627698, 5.0073600478701232e-06)\n"
     ]
    }
   ],
   "source": [
    "z=lnn225.loc[:\"1954/11/30\"]\n",
    "y=z.diff().dropna()\n",
    "x=z.shift(1).dropna()\n",
    "model=sm.OLS(y,x)\n",
    "results=model.fit()\n",
    "print(\"nc  \",results.params)\n",
    "x=sm.add_constant(x)\n",
    "model=sm.OLS(y,x)\n",
    "results=model.fit()\n",
    "print(\"c  \",results.params[0],results.params[1])\n",
    "x[\"t\"]=range(len(y))\n",
    "model=sm.OLS(y,x)\n",
    "results=model.fit()\n",
    "print(\"ct  \",results.params[0],results.params[1],results.params[2])"
   ]
  },
  {
   "cell_type": "code",
   "execution_count": 35,
   "metadata": {},
   "outputs": [
    {
     "name": "stdout",
     "output_type": "stream",
     "text": [
      "('nc  ', NIKKEI225    0.000068\n",
      "dtype: float64)\n",
      "('c  ', 0.0035452211834228987, -0.00043445204571642912)\n",
      "('ct  ', 0.0077638040262291994, -0.0011394052321696542, 3.4186272877483362e-07)\n"
     ]
    }
   ],
   "source": [
    "z=lnn225.loc[\"1954/11/30\":'1971/12/31']\n",
    "y=z.diff().dropna()\n",
    "x=z.shift(1).dropna()\n",
    "model=sm.OLS(y,x)\n",
    "results=model.fit()\n",
    "print(\"nc  \",results.params)\n",
    "x=sm.add_constant(x)\n",
    "model=sm.OLS(y,x)\n",
    "results=model.fit()\n",
    "print(\"c  \",results.params[0],results.params[1])\n",
    "x[\"t\"]=range(len(y))\n",
    "model=sm.OLS(y,x)\n",
    "results=model.fit()\n",
    "print(\"ct  \",results.params[0],results.params[1],results.params[2])"
   ]
  },
  {
   "cell_type": "code",
   "execution_count": 36,
   "metadata": {},
   "outputs": [
    {
     "name": "stdout",
     "output_type": "stream",
     "text": [
      "('nc  ', NIKKEI225    0.000057\n",
      "dtype: float64)\n",
      "('c  ', 0.00059449099700932279, -1.0333006186346883e-05)\n",
      "('ct  ', 0.012677919948122666, -0.0015148449034599167, 6.0874320028795224e-07)\n"
     ]
    }
   ],
   "source": [
    "z=lnn225.loc['1971/12/31':'1986/11/30']\n",
    "y=z.diff().dropna()\n",
    "x=z.shift(1).dropna()\n",
    "model=sm.OLS(y,x)\n",
    "results=model.fit()\n",
    "print(\"nc  \",results.params)\n",
    "x=sm.add_constant(x)\n",
    "model=sm.OLS(y,x)\n",
    "results=model.fit()\n",
    "print(\"c  \",results.params[0],results.params[1])\n",
    "x[\"t\"]=range(len(y))\n",
    "model=sm.OLS(y,x)\n",
    "results=model.fit()\n",
    "print(\"ct  \",results.params[0],results.params[1],results.params[2])"
   ]
  },
  {
   "cell_type": "code",
   "execution_count": 37,
   "metadata": {},
   "outputs": [
    {
     "name": "stdout",
     "output_type": "stream",
     "text": [
      "('nc  ', NIKKEI225    0.000003\n",
      "dtype: float64)\n",
      "('c  ', 0.022443821648993632, -0.0022164837215311642)\n",
      "('ct  ', 0.043732130203513242, -0.0041589096334758175, -1.9440246375728736e-06)\n"
     ]
    }
   ],
   "source": [
    "z=lnn225.loc['1986/11/30':'1993/10/31']\n",
    "y=z.diff().dropna()\n",
    "x=z.shift(1).dropna()\n",
    "model=sm.OLS(y,x)\n",
    "results=model.fit()\n",
    "print(\"nc  \",results.params)\n",
    "x=sm.add_constant(x)\n",
    "model=sm.OLS(y,x)\n",
    "results=model.fit()\n",
    "print(\"c  \",results.params[0],results.params[1])\n",
    "x[\"t\"]=range(len(y))\n",
    "model=sm.OLS(y,x)\n",
    "results=model.fit()\n",
    "print(\"ct  \",results.params[0],results.params[1],results.params[2])"
   ]
  },
  {
   "cell_type": "code",
   "execution_count": 38,
   "metadata": {},
   "outputs": [
    {
     "name": "stdout",
     "output_type": "stream",
     "text": [
      "('nc  ', NIKKEI225    0.000096\n",
      "dtype: float64)\n",
      "('nc  ', -4690.7192273754981)\n",
      "('nc  ', -4686.0806595863314)\n",
      "('nc  ', 0.0075452699572636783)\n",
      "('nc  ', 0.0062445429191997359)\n",
      "('nc  ', 0.00012604520290183935)\n",
      "('nc  ', array([ 79769.67617582]))\n",
      "('c  ', 0.02735779633148306, -0.0025811995541898049)\n",
      "('c  ', -4690.1949216494431)\n",
      "('c  ', -4680.9177860711097)\n",
      "('c  ', 0.001793776010617365)\n",
      "('c  ', 0.00048379408937149204)\n",
      "('c  ', 0.0001259670713612881)\n",
      "('c  ', array([  8.05334306e+04,   2.45603153e-01]))\n",
      "('ct  ', 0.22786812894271039, -0.022869218461065613, 1.7724839579407202e-05)\n",
      "('ct  ', -4696.3498222539338)\n",
      "('ct  ', -4682.4341188864346)\n",
      "('ct  ', 0.012391920325418027)\n",
      "('ct  ', 0.0097963668965755923)\n",
      "('ct  ', 0.00012479342603525408)\n",
      "('ct  ', array([  1.48417739e+08,   1.89889943e+04,   2.27656103e-02]))\n"
     ]
    }
   ],
   "source": [
    "z=lnn225.loc['1986/11/30':'1989/12/31']\n",
    "y=z.diff().dropna()\n",
    "x=z.shift(1).dropna()\n",
    "model=sm.OLS(y,x)\n",
    "results=model.fit()\n",
    "print(\"nc  \",results.params)\n",
    "print(\"nc  \",results.aic)\n",
    "print(\"nc  \",results.bic)\n",
    "print(\"nc  \",results.rsquared)\n",
    "print(\"nc  \",results.rsquared_adj)\n",
    "print(\"nc  \",results.mse_resid)\n",
    "print(\"nc  \",results.eigenvals)\n",
    "x=sm.add_constant(x)\n",
    "model=sm.OLS(y,x)\n",
    "results=model.fit()\n",
    "print(\"c  \",results.params[0],results.params[1])\n",
    "print(\"c  \",results.aic)\n",
    "print(\"c  \",results.bic)\n",
    "print(\"c  \",results.rsquared)\n",
    "print(\"c  \",results.rsquared_adj)\n",
    "print(\"c  \",results.mse_resid)\n",
    "print(\"c  \",results.eigenvals)\n",
    "x[\"t\"]=range(len(y))\n",
    "model=sm.OLS(y,x)\n",
    "results=model.fit()\n",
    "print(\"ct  \",results.params[0],results.params[1],results.params[2])\n",
    "print(\"ct  \",results.aic)\n",
    "print(\"ct  \",results.bic)\n",
    "print(\"ct  \",results.rsquared)\n",
    "print(\"ct  \",results.rsquared_adj)\n",
    "print(\"ct  \",results.mse_resid)\n",
    "print(\"ct  \",results.eigenvals)\n"
   ]
  },
  {
   "cell_type": "code",
   "execution_count": 39,
   "metadata": {},
   "outputs": [
    {
     "name": "stdout",
     "output_type": "stream",
     "text": [
      "('nc  ', NIKKEI225    0.000002\n",
      "dtype: float64)\n",
      "('c  ', 0.011126194545273199, -0.0011617540734591939)\n",
      "('ct  ', 0.00949595220098573, -0.0010239961389929379, 1.0595365268812821e-07)\n"
     ]
    }
   ],
   "source": [
    "z=lnn225.loc['1993/10/31':]\n",
    "y=z.diff().dropna()\n",
    "x=z.shift(1).dropna()\n",
    "model=sm.OLS(y,x)\n",
    "results=model.fit()\n",
    "print(\"nc  \",results.params)\n",
    "x=sm.add_constant(x)\n",
    "model=sm.OLS(y,x)\n",
    "results=model.fit()\n",
    "print(\"c  \",results.params[0],results.params[1])\n",
    "x[\"t\"]=range(len(y))\n",
    "model=sm.OLS(y,x)\n",
    "results=model.fit()\n",
    "print(\"ct  \",results.params[0],results.params[1],results.params[2])"
   ]
  },
  {
   "cell_type": "code",
   "execution_count": 40,
   "metadata": {},
   "outputs": [
    {
     "name": "stdout",
     "output_type": "stream",
     "text": [
      "('nc  ', NIKKEI225   -0.000118\n",
      "dtype: float64)\n",
      "('c  ', 0.055970670965774613, -0.0056602757810297498)\n",
      "('ct  ', 0.2070159796124646, -0.020029652526247502, -1.8352425875113999e-05)\n"
     ]
    }
   ],
   "source": [
    "z=lnn225.loc['1990/1/1':'1992/8/31']\n",
    "y=z.diff().dropna()\n",
    "x=z.shift(1).dropna()\n",
    "model=sm.OLS(y,x)\n",
    "results=model.fit()\n",
    "print(\"nc  \",results.params)\n",
    "x=sm.add_constant(x)\n",
    "model=sm.OLS(y,x)\n",
    "results=model.fit()\n",
    "print(\"c  \",results.params[0],results.params[1])\n",
    "x[\"t\"]=range(len(y))\n",
    "model=sm.OLS(y,x)\n",
    "results=model.fit()\n",
    "print(\"ct  \",results.params[0],results.params[1],results.params[2])"
   ]
  },
  {
   "cell_type": "markdown",
   "metadata": {},
   "source": [
    "## 7.5 確定的トレンドと確率的トレンド"
   ]
  },
  {
   "cell_type": "code",
   "execution_count": 41,
   "metadata": {},
   "outputs": [
    {
     "data": {
      "text/plain": [
       "Text(0,0.5,u'log(n225 index)')"
      ]
     },
     "execution_count": 41,
     "metadata": {},
     "output_type": "execute_result"
    },
    {
     "data": {
      "image/png": "[encoded data removed]",
      "text/plain": [
       "<matplotlib.figure.Figure at 0x10740278>"
      ]
     },
     "metadata": {},
     "output_type": "display_data"
    }
   ],
   "source": [
    "%matplotlib inline\n",
    "import matplotlib.pyplot as plt\n",
    "import statsmodels.api as sm\n",
    "import pandas_datareader.data as pdr\n",
    "import numpy as np\n",
    "end='2016/9/30'\n",
    "lnw5000 = np.log(web.DataReader(\"WILL5000INDFC\", 'fred',\"1949/5/16\",end)).dropna()\n",
    "lnw5000.columns=['Close']\n",
    "plt.plot(lnw5000.Close,color='hotpink')\n",
    "lnw5000[\"t\"]=range(len(lnw5000))\n",
    "model=sm.OLS(lnw5000.Close,lnw5000.t)\n",
    "results=model.fit()\n",
    "results.fittedvalues.plot(label='prediction',style='--')\n",
    "plt.ylabel('log(n225 index)')"
   ]
  },
  {
   "cell_type": "code",
   "execution_count": 42,
   "metadata": {},
   "outputs": [
    {
     "data": {
      "text/plain": [
       "Text(0.5,0,u'residual')"
      ]
     },
     "execution_count": 42,
     "metadata": {},
     "output_type": "execute_result"
    },
    {
     "data": {
      "image/png": "[encoded data removed]",
      "text/plain": [
       "<matplotlib.figure.Figure at 0x93dd898>"
      ]
     },
     "metadata": {},
     "output_type": "display_data"
    }
   ],
   "source": [
    "results.resid.hist(bins=50,color='lightgreen')\n",
    "plt.ylabel('frequency')\n",
    "plt.xlabel('residual')"
   ]
  },
  {
   "cell_type": "code",
   "execution_count": 43,
   "metadata": {},
   "outputs": [
    {
     "name": "stdout",
     "output_type": "stream",
     "text": [
      "                            OLS Regression Results                            \n",
      "==============================================================================\n",
      "Dep. Variable:                  Close   R-squared:                       0.967\n",
      "Model:                            OLS   Adj. R-squared:                  0.967\n",
      "Method:                 Least Squares   F-statistic:                 2.770e+05\n",
      "Date:                Mon, 15 Jan 2018   Prob (F-statistic):               0.00\n",
      "Time:                        14:02:09   Log-Likelihood:                -7929.6\n",
      "No. Observations:                9397   AIC:                         1.586e+04\n",
      "Df Residuals:                    9396   BIC:                         1.587e+04\n",
      "Df Model:                           1                                         \n",
      "Covariance Type:            nonrobust                                         \n",
      "==============================================================================\n",
      "                 coef    std err          t      P>|t|      [0.025      0.975]\n",
      "------------------------------------------------------------------------------\n",
      "t              0.0006   1.07e-06    526.352      0.000       0.001       0.001\n",
      "==============================================================================\n",
      "Omnibus:                     2185.621   Durbin-Watson:                   0.000\n",
      "Prob(Omnibus):                  0.000   Jarque-Bera (JB):             1204.052\n",
      "Skew:                          -0.744   Prob(JB):                    3.50e-262\n",
      "Kurtosis:                       2.071   Cond. No.                         1.00\n",
      "==============================================================================\n",
      "\n",
      "Warnings:\n",
      "[1] Standard Errors assume that the covariance matrix of the errors is correctly specified.\n"
     ]
    }
   ],
   "source": [
    "print(results.summary())"
   ]
  }
 ],
 "metadata": {
  "anaconda-cloud": {},
  "kernelspec": {
   "display_name": "Python 2",
   "language": "python",
   "name": "python2"
  },
  "language_info": {
   "codemirror_mode": {
    "name": "ipython",
    "version": 2
   },
   "file_extension": ".py",
   "mimetype": "text/x-python",
   "name": "python",
   "nbconvert_exporter": "python",
   "pygments_lexer": "ipython2",
   "version": "2.7.14"
  }
 },
 "nbformat": 4,
 "nbformat_minor": 1
}
