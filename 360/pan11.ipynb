{
 "cells": [
  {
   "cell_type": "markdown",
   "metadata": {},
   "source": [
    "# 第11章　季節性とマクロ変数を加える?\n",
    "## 11.3 季節性の具体例"
   ]
  },
  {
   "cell_type": "code",
   "execution_count": 1,
   "metadata": {},
   "outputs": [
    {
     "name": "stdout",
     "output_type": "stream",
     "text": [
      "[24, 15, 14, 9, 14, 10, 9, 14, 16, 9, 14, 15]\n"
     ]
    }
   ],
   "source": [
    "from scipy.stats import t\n",
    "import pandas as pd\n",
    "import pandas_datareader.data as web\n",
    "import numpy as np\n",
    "end='2017/12/30'\n",
    "n225 = web.DataReader(\"NIKKEI225\", 'fred',\"1949/5/16\",end).dropna()\n",
    "develop=n225.loc[:'1989/12/31']\n",
    "reform=n225.loc['1989/12/31':]\n",
    "year=n225.loc['1989']\n",
    "years=[x+1950 for x in range(66)]\n",
    "m=lambda x:x.month\n",
    "count=[0]*12\n",
    "alpha=0.1\n",
    "for i in range(len(years)):\n",
    "    year=n225.loc[str(years[i])]\n",
    "    r=year.pct_change().groupby([m])\n",
    "    tv=r.mean()/r.std()*np.sqrt(r.count())\n",
    "    t0=t.ppf(1-alpha,len(r)-1)\n",
    "    for j in range(12):\n",
    "        if float(tv.iloc[j])>t0:# and years[i]>=1990:\n",
    "            count[j]+=1\n",
    "print(count)"
   ]
  },
  {
   "cell_type": "code",
   "execution_count": 2,
   "metadata": {},
   "outputs": [
    {
     "name": "stderr",
     "output_type": "stream",
     "text": [
      "C:\\Users\\moriya\\Anaconda3\\lib\\site-packages\\ipykernel_launcher.py:9: DeprecationWarning: \n",
      ".ix is deprecated. Please use\n",
      ".loc for label based indexing or\n",
      ".iloc for positional indexing\n",
      "\n",
      "See the documentation here:\n",
      "http://pandas.pydata.org/pandas-docs/stable/indexing.html#ix-indexer-is-deprecated\n",
      "  if __name__ == '__main__':\n"
     ]
    },
    {
     "name": "stdout",
     "output_type": "stream",
     "text": [
      "[2, 3, 2, 2, 4, 2, 2, 1, 5, 1, 3, 4]\n",
      "1.3634303180205214\n"
     ]
    }
   ],
   "source": [
    "from scipy.stats import t\n",
    "import pandas as pd\n",
    "import pandas_datareader.data as pdr\n",
    "import numpy as np\n",
    "m=lambda x:x.month\n",
    "count=[0]*12\n",
    "alpha=0.1\n",
    "for i in range(len(years)):\n",
    "    year=n225.ix[str(years[i])]\n",
    "    r=year.pct_change().groupby([m])\n",
    "    tv=r.mean()/r.std()*np.sqrt(r.count())\n",
    "    t0=t.ppf(1-alpha,len(r)-1)\n",
    "    for j in range(12):\n",
    "        if float(tv.iloc[j])>t0 and years[i]>=1990:\n",
    "            count[j]+=1\n",
    "print(count)\n",
    "print(t0)"
   ]
  },
  {
   "cell_type": "code",
   "execution_count": 3,
   "metadata": {},
   "outputs": [
    {
     "name": "stderr",
     "output_type": "stream",
     "text": [
      "C:\\Users\\moriya\\Anaconda3\\lib\\site-packages\\ipykernel_launcher.py:8: DeprecationWarning: \n",
      ".ix is deprecated. Please use\n",
      ".loc for label based indexing or\n",
      ".iloc for positional indexing\n",
      "\n",
      "See the documentation here:\n",
      "http://pandas.pydata.org/pandas-docs/stable/indexing.html#ix-indexer-is-deprecated\n",
      "  \n"
     ]
    },
    {
     "name": "stdout",
     "output_type": "stream",
     "text": [
      "[24, 15, 14, 9, 14, 10, 9, 14, 16, 9, 14, 15]\n"
     ]
    }
   ],
   "source": [
    "from scipy.stats import t\n",
    "import pandas as pd\n",
    "import pandas_datareader.data as pdr\n",
    "import numpy as np\n",
    "m=lambda x:x.month\n",
    "count=[0]*12\n",
    "for i in range(len(years)):\n",
    "    year=n225.ix[str(years[i])]\n",
    "    r=year.pct_change().groupby([m])\n",
    "    tv=r.mean()/r.std()*np.sqrt(r.count())\n",
    "    t0=t.ppf(1-alpha,len(r)-1)\n",
    "    for j in range(12):\n",
    "        if float(tv.iloc[j])>t0:# and years[i]>=1990:\n",
    "            count[j]+=1\n",
    "print(count)"
   ]
  },
  {
   "cell_type": "code",
   "execution_count": 4,
   "metadata": {},
   "outputs": [
    {
     "name": "stderr",
     "output_type": "stream",
     "text": [
      "C:\\Users\\moriya\\Anaconda3\\lib\\site-packages\\ipykernel_launcher.py:8: DeprecationWarning: \n",
      ".ix is deprecated. Please use\n",
      ".loc for label based indexing or\n",
      ".iloc for positional indexing\n",
      "\n",
      "See the documentation here:\n",
      "http://pandas.pydata.org/pandas-docs/stable/indexing.html#ix-indexer-is-deprecated\n",
      "  \n"
     ]
    },
    {
     "name": "stdout",
     "output_type": "stream",
     "text": [
      "[2, 5, 5, 2, 9, 4, 6, 6, 5, 4, 7, 3]\n"
     ]
    }
   ],
   "source": [
    "from scipy.stats import t\n",
    "import pandas as pd\n",
    "import pandas_datareader.data as pdr\n",
    "import numpy as np\n",
    "m=lambda x:x.month\n",
    "count=[0]*12\n",
    "for i in range(len(years)):\n",
    "    year=n225.ix[str(years[i])]\n",
    "    r=year.pct_change().groupby([m])\n",
    "    tv=r.mean()/r.std()*np.sqrt(r.count())\n",
    "    t0=-t.ppf(1-alpha,len(r)-1)\n",
    "    for j in range(12):\n",
    "        if float(tv.iloc[j])<t0:# and years[i]>=1990:\n",
    "            count[j]+=1\n",
    "print(count)"
   ]
  },
  {
   "cell_type": "code",
   "execution_count": 5,
   "metadata": {},
   "outputs": [
    {
     "name": "stderr",
     "output_type": "stream",
     "text": [
      "C:\\Users\\moriya\\Anaconda3\\lib\\site-packages\\ipykernel_launcher.py:8: DeprecationWarning: \n",
      ".ix is deprecated. Please use\n",
      ".loc for label based indexing or\n",
      ".iloc for positional indexing\n",
      "\n",
      "See the documentation here:\n",
      "http://pandas.pydata.org/pandas-docs/stable/indexing.html#ix-indexer-is-deprecated\n",
      "  \n"
     ]
    },
    {
     "name": "stdout",
     "output_type": "stream",
     "text": [
      "[1, 2, 2, 0, 4, 2, 2, 2, 3, 0, 3, 1]\n"
     ]
    }
   ],
   "source": [
    "from scipy.stats import t\n",
    "import pandas as pd\n",
    "import pandas_datareader.data as pdr\n",
    "import numpy as np\n",
    "m=lambda x:x.month\n",
    "count=[0]*12\n",
    "for i in range(len(years)):\n",
    "    year=n225.ix[str(years[i])]\n",
    "    r=year.pct_change().groupby([m])\n",
    "    tv=r.mean()/r.std()*np.sqrt(r.count())\n",
    "    t0=-t.ppf(1-alpha,len(r)-1)\n",
    "    for j in range(12):\n",
    "        if float(tv.iloc[j])<t0 and years[i]>=1990:\n",
    "            count[j]+=1\n",
    "print(count)"
   ]
  },
  {
   "cell_type": "code",
   "execution_count": 6,
   "metadata": {},
   "outputs": [
    {
     "name": "stderr",
     "output_type": "stream",
     "text": [
      "C:\\Users\\moriya\\Anaconda3\\lib\\site-packages\\ipykernel_launcher.py:4: DeprecationWarning: \n",
      ".ix is deprecated. Please use\n",
      ".loc for label based indexing or\n",
      ".iloc for positional indexing\n",
      "\n",
      "See the documentation here:\n",
      "http://pandas.pydata.org/pandas-docs/stable/indexing.html#ix-indexer-is-deprecated\n",
      "  after removing the cwd from sys.path.\n"
     ]
    },
    {
     "name": "stdout",
     "output_type": "stream",
     "text": [
      "[15, 17, 14, 13, 10]\n"
     ]
    }
   ],
   "source": [
    "w=lambda x:x.week\n",
    "count=[0]*5\n",
    "for i in range(len(years)):\n",
    "    year=n225.ix[str(years[i])]\n",
    "    r=year.pct_change().groupby([w])\n",
    "    tv=r.mean()/r.std()*np.sqrt(r.count())\n",
    "    t0=t.ppf(1-alpha,len(r)-1)\n",
    "    for j in range(5):\n",
    "        if float(tv.iloc[j])>t0:\n",
    "            count[j]+=1\n",
    "print(count)"
   ]
  },
  {
   "cell_type": "code",
   "execution_count": 7,
   "metadata": {},
   "outputs": [
    {
     "name": "stderr",
     "output_type": "stream",
     "text": [
      "C:\\Users\\moriya\\Anaconda3\\lib\\site-packages\\ipykernel_launcher.py:4: DeprecationWarning: \n",
      ".ix is deprecated. Please use\n",
      ".loc for label based indexing or\n",
      ".iloc for positional indexing\n",
      "\n",
      "See the documentation here:\n",
      "http://pandas.pydata.org/pandas-docs/stable/indexing.html#ix-indexer-is-deprecated\n",
      "  after removing the cwd from sys.path.\n"
     ]
    },
    {
     "name": "stdout",
     "output_type": "stream",
     "text": [
      "[0, 0, 0, 0, 0]\n"
     ]
    }
   ],
   "source": [
    "w=lambda x:x.week\n",
    "count=[0]*5\n",
    "for i in range(len(years)):\n",
    "    year=n225.ix[str(years[i])]\n",
    "    r=year.pct_change().groupby([w])\n",
    "    tv=r.mean()/r.std()*np.sqrt(r.count())\n",
    "    t0=t.ppf(1-alpha,len(r)-1)\n",
    "    for j in range(5):\n",
    "        if float(tv.iloc[j])>t0 and years[j]>1990:\n",
    "            count[j]+=1\n",
    "print(count)"
   ]
  },
  {
   "cell_type": "code",
   "execution_count": 8,
   "metadata": {},
   "outputs": [
    {
     "name": "stderr",
     "output_type": "stream",
     "text": [
      "C:\\Users\\moriya\\Anaconda3\\lib\\site-packages\\ipykernel_launcher.py:4: DeprecationWarning: \n",
      ".ix is deprecated. Please use\n",
      ".loc for label based indexing or\n",
      ".iloc for positional indexing\n",
      "\n",
      "See the documentation here:\n",
      "http://pandas.pydata.org/pandas-docs/stable/indexing.html#ix-indexer-is-deprecated\n",
      "  after removing the cwd from sys.path.\n"
     ]
    },
    {
     "name": "stdout",
     "output_type": "stream",
     "text": [
      "[7, 10, 5, 3, 7]\n"
     ]
    }
   ],
   "source": [
    "w=lambda x:x.week\n",
    "count=[0]*5\n",
    "for i in range(len(years)):\n",
    "    year=n225.ix[str(years[i])]\n",
    "    r=year.pct_change().groupby([w])\n",
    "    tv=r.mean()/r.std()*np.sqrt(r.count())\n",
    "    t0=-t.ppf(1-alpha,len(r)-1)\n",
    "    for j in range(5):\n",
    "        if float(tv.iloc[j])<t0:\n",
    "            count[j]+=1\n",
    "print(count)"
   ]
  },
  {
   "cell_type": "code",
   "execution_count": 9,
   "metadata": {},
   "outputs": [
    {
     "name": "stderr",
     "output_type": "stream",
     "text": [
      "C:\\Users\\moriya\\Anaconda3\\lib\\site-packages\\ipykernel_launcher.py:8: DeprecationWarning: \n",
      ".ix is deprecated. Please use\n",
      ".loc for label based indexing or\n",
      ".iloc for positional indexing\n",
      "\n",
      "See the documentation here:\n",
      "http://pandas.pydata.org/pandas-docs/stable/indexing.html#ix-indexer-is-deprecated\n",
      "  \n"
     ]
    },
    {
     "name": "stdout",
     "output_type": "stream",
     "text": [
      "[0, 0, 0, 0, 0]\n"
     ]
    }
   ],
   "source": [
    "from scipy.stats import t\n",
    "import pandas as pd\n",
    "import pandas_datareader.data as pdr\n",
    "import numpy as np\n",
    "w=lambda x:x.week\n",
    "count=[0]*5\n",
    "for i in range(len(years)):\n",
    "    year=n225.ix[str(years[i])]\n",
    "    r=year.pct_change().groupby([w])\n",
    "    tv=r.mean()/r.std()*np.sqrt(r.count())\n",
    "    t0=-t.ppf(1-alpha,len(r)-1)\n",
    "    for j in range(5):\n",
    "        if float(tv.iloc[j])<t0 and years[j]>1990:\n",
    "            count[j]+=1\n",
    "print(count)"
   ]
  },
  {
   "cell_type": "markdown",
   "metadata": {},
   "source": [
    "## 11.4 マクロ変数との関係(単回帰と多変量解析)"
   ]
  },
  {
   "cell_type": "code",
   "execution_count": 10,
   "metadata": {},
   "outputs": [],
   "source": [
    "import pandas_datareader.data as pdr\n",
    "import numpy as np\n",
    "start='1971/12/1'\n",
    "end='2017/12/30'\n",
    "workpop = web.DataReader('LFWA64TTJPM647S',\"fred\",start,end).dropna()\n",
    "gdp = web.DataReader('MKTGDPJPA646NWDB',\"fred\",start,end).dropna()\n",
    "gdp=gdp.resample('A',loffset='-1d').last().dropna()\n",
    "fx = web.DataReader('DEXJPUS',\"fred\",start,end).dropna()\n",
    "fx=fx.resample('A',loffset='-1d').last().dropna()\n",
    "workpop=workpop['1972':].resample('A',loffset='-1d').last().dropna()\n",
    "gdpjpy=gdp.MKTGDPJPA646NWDB*fx.DEXJPUS\n",
    "gdpjpy=np.log(gdpjpy).dropna()\n",
    "workpop=np.log(workpop).dropna()"
   ]
  },
  {
   "cell_type": "code",
   "execution_count": 11,
   "metadata": {},
   "outputs": [
    {
     "name": "stdout",
     "output_type": "stream",
     "text": [
      "                            OLS Regression Results                            \n",
      "==============================================================================\n",
      "Dep. Variable:                      y   R-squared:                       1.000\n",
      "Model:                            OLS   Adj. R-squared:                  1.000\n",
      "Method:                 Least Squares   F-statistic:                 1.931e+29\n",
      "Date:                Tue, 25 Dec 2018   Prob (F-statistic):               0.00\n",
      "Time:                        13:34:31   Log-Likelihood:                 1433.3\n",
      "No. Observations:                  46   AIC:                            -2863.\n",
      "Df Residuals:                      44   BIC:                            -2859.\n",
      "Df Model:                           1                                         \n",
      "Covariance Type:            nonrobust                                         \n",
      "==============================================================================\n",
      "                 coef    std err          t      P>|t|      [0.025      0.975]\n",
      "------------------------------------------------------------------------------\n",
      "const      -8.882e-14   7.64e-14     -1.163      0.251   -2.43e-13    6.51e-14\n",
      "0              1.0000   2.28e-15   4.39e+14      0.000       1.000       1.000\n",
      "==============================================================================\n",
      "Omnibus:                        1.069   Durbin-Watson:                   0.000\n",
      "Prob(Omnibus):                  0.586   Jarque-Bera (JB):               17.250\n",
      "Skew:                           0.000   Prob(JB):                     0.000180\n",
      "Kurtosis:                       0.000   Cond. No.                     2.39e+03\n",
      "==============================================================================\n",
      "\n",
      "Warnings:\n",
      "[1] Standard Errors assume that the covariance matrix of the errors is correctly specified.\n",
      "[2] The condition number is large, 2.39e+03. This might indicate that there are\n",
      "strong multicollinearity or other numerical problems.\n"
     ]
    }
   ],
   "source": [
    "import statsmodels.api as sm\n",
    "x=sm.add_constant(gdpjpy)\n",
    "model=sm.OLS(gdpjpy,x)\n",
    "results=model.fit()\n",
    "print(results.summary())"
   ]
  },
  {
   "cell_type": "code",
   "execution_count": 12,
   "metadata": {},
   "outputs": [
    {
     "data": {
      "text/plain": [
       "<matplotlib.legend.Legend at 0x2c5995f2588>"
      ]
     },
     "execution_count": 12,
     "metadata": {},
     "output_type": "execute_result"
    },
    {
     "data": {
      "image/png": "[encoded data removed]",
      "text/plain": [
       "<Figure size 432x288 with 2 Axes>"
      ]
     },
     "metadata": {},
     "output_type": "display_data"
    }
   ],
   "source": [
    "%matplotlib inline \n",
    "import matplotlib.pyplot as plt\n",
    "f,ax = plt.subplots()#２軸のグラフの準備\n",
    "ax.plot(gdpjpy,label='gdp',linestyle=\"--\")\n",
    "ax2=ax.twinx()#２軸目をax2として設定\n",
    "ax2.plot((workpop),label='workpop')#２軸目にプロット\n",
    "results.fittedvalues.plot(label='fitted',style=':',ax=ax)\n",
    "ax.set_ylabel('log GDP')#1軸目にラベルを設定\n",
    "ax2.set_ylabel('workshop')#2軸目にラベルを設定\n",
    "ax.legend(loc='lower right')\n",
    "ax2.legend(loc='upper left')"
   ]
  },
  {
   "cell_type": "code",
   "execution_count": 13,
   "metadata": {},
   "outputs": [
    {
     "data": {
      "text/plain": [
       "<matplotlib.legend.Legend at 0x2c59969c9b0>"
      ]
     },
     "execution_count": 13,
     "metadata": {},
     "output_type": "execute_result"
    },
    {
     "data": {
      "image/png": "[encoded data removed]",
      "text/plain": [
       "<Figure size 432x288 with 1 Axes>"
      ]
     },
     "metadata": {},
     "output_type": "display_data"
    }
   ],
   "source": [
    "import matplotlib.pyplot as plt\n",
    "results.resid.hist(label='residual',color='seagreen')\n",
    "plt.xlabel('residual:gdp vs work population')\n",
    "plt.ylabel('frequency')\n",
    "plt.legend(loc='upper right')"
   ]
  },
  {
   "cell_type": "code",
   "execution_count": 34,
   "metadata": {},
   "outputs": [
    {
     "name": "stdout",
     "output_type": "stream",
     "text": [
      "                            OLS Regression Results                            \n",
      "==============================================================================\n",
      "Dep. Variable:                   n225   R-squared:                       0.560\n",
      "Model:                            OLS   Adj. R-squared:                  0.550\n",
      "Method:                 Least Squares   F-statistic:                     55.99\n",
      "Date:                Tue, 25 Dec 2018   Prob (F-statistic):           2.26e-09\n",
      "Time:                        13:40:16   Log-Likelihood:                -18.915\n",
      "No. Observations:                  46   AIC:                             41.83\n",
      "Df Residuals:                      44   BIC:                             45.49\n",
      "Df Model:                           1                                         \n",
      "Covariance Type:            nonrobust                                         \n",
      "==============================================================================\n",
      "                 coef    std err          t      P>|t|      [0.025      0.975]\n",
      "------------------------------------------------------------------------------\n",
      "const        -19.9523      3.923     -5.085      0.000     -27.859     -12.045\n",
      "workpop        0.4375      0.058      7.483      0.000       0.320       0.555\n",
      "gdpjpy         0.4375      0.058      7.483      0.000       0.320       0.555\n",
      "==============================================================================\n",
      "Omnibus:                        6.017   Durbin-Watson:                   0.339\n",
      "Prob(Omnibus):                  0.049   Jarque-Bera (JB):                4.999\n",
      "Skew:                           0.781   Prob(JB):                       0.0821\n",
      "Kurtosis:                       3.413   Cond. No.                     2.14e+18\n",
      "==============================================================================\n",
      "\n",
      "Warnings:\n",
      "[1] Standard Errors assume that the covariance matrix of the errors is correctly specified.\n",
      "[2] The smallest eigenvalue is 2.26e-32. This might indicate that there are\n",
      "strong multicollinearity problems or that the design matrix is singular.\n"
     ]
    }
   ],
   "source": [
    "import pandas as pd\n",
    "lnn225 = np.log(pdr.DataReader(\"NIKKEI225\", 'fred',start,end).dropna())\n",
    "lnn225=lnn225.resample('A',loffset='-1d').last().dropna()\n",
    "port=pd.concat([lnn225,x,gdpjpy],axis=1).dropna()\n",
    "port.columns=[\"n225\",\"const\",\"workpop\",\"gdpjpy\"]\n",
    "model=sm.OLS(port.n225,port.iloc[:,1:])\n",
    "results=model.fit()\n",
    "print(results.summary())"
   ]
  },
  {
   "cell_type": "code",
   "execution_count": 15,
   "metadata": {},
   "outputs": [
    {
     "data": {
      "text/plain": [
       "<matplotlib.legend.Legend at 0x2c5997379e8>"
      ]
     },
     "execution_count": 15,
     "metadata": {},
     "output_type": "execute_result"
    },
    {
     "data": {
      "image/png": "[encoded data removed]",
      "text/plain": [
       "<Figure size 432x288 with 2 Axes>"
      ]
     },
     "metadata": {},
     "output_type": "display_data"
    }
   ],
   "source": [
    "#多変量解析：折れ線グラフ\n",
    "f,ax = plt.subplots()#２軸のグラフの準備\n",
    "(port.gdpjpy-24).plot(label='gdp',linestyle=\"--\",ax=ax)\n",
    "port.n225.plot(label='n225',ax=ax)\n",
    "ax2=ax.twinx()#２軸目をax2として設定\n",
    "(port.workpop).plot(label='workpop',ax=ax2,style='o')\n",
    "results.fittedvalues.plot(label='fitted',style=':',ax=ax)\n",
    "plt.legend(loc='upper left')\n",
    "ax.set_ylabel('log Nikkei225 index')#1軸目にラベルを設定\n",
    "ax2.set_ylabel('workshop')#2軸目にラベルを設定\n",
    "ax.legend(loc='lower right')\n",
    "ax2.legend(loc='upper left')"
   ]
  },
  {
   "cell_type": "code",
   "execution_count": 16,
   "metadata": {},
   "outputs": [
    {
     "data": {
      "text/plain": [
       "<matplotlib.legend.Legend at 0x2c599ab8d68>"
      ]
     },
     "execution_count": 16,
     "metadata": {},
     "output_type": "execute_result"
    },
    {
     "data": {
      "image/png": "[encoded data removed]",
      "text/plain": [
       "<Figure size 432x288 with 1 Axes>"
      ]
     },
     "metadata": {},
     "output_type": "display_data"
    }
   ],
   "source": [
    "#多変量解析：ヒストグラム\n",
    "results.resid.hist(label='residual',color='mistyrose')\n",
    "plt.xlabel('residual:gdp vs work population')\n",
    "plt.ylabel('frequency')\n",
    "plt.legend(loc='upper right')"
   ]
  },
  {
   "cell_type": "code",
   "execution_count": 17,
   "metadata": {},
   "outputs": [
    {
     "name": "stdout",
     "output_type": "stream",
     "text": [
      "                            OLS Regression Results                            \n",
      "==============================================================================\n",
      "Dep. Variable:                   n225   R-squared:                       0.745\n",
      "Model:                            OLS   Adj. R-squared:                  0.729\n",
      "Method:                 Least Squares   F-statistic:                     46.76\n",
      "Date:                Tue, 25 Dec 2018   Prob (F-statistic):           3.98e-06\n",
      "Time:                        13:34:32   Log-Likelihood:                -6.2799\n",
      "No. Observations:                  18   AIC:                             16.56\n",
      "Df Residuals:                      16   BIC:                             18.34\n",
      "Df Model:                           1                                         \n",
      "Covariance Type:            nonrobust                                         \n",
      "==============================================================================\n",
      "                 coef    std err          t      P>|t|      [0.025      0.975]\n",
      "------------------------------------------------------------------------------\n",
      "const        -39.2974      7.076     -5.554      0.000     -54.298     -24.297\n",
      "workpop        0.7317      0.107      6.838      0.000       0.505       0.959\n",
      "gdpjpy         0.7317      0.107      6.838      0.000       0.505       0.959\n",
      "==============================================================================\n",
      "Omnibus:                        2.492   Durbin-Watson:                   0.389\n",
      "Prob(Omnibus):                  0.288   Jarque-Bera (JB):                1.998\n",
      "Skew:                           0.723   Prob(JB):                        0.368\n",
      "Kurtosis:                       2.241   Cond. No.                     4.67e+18\n",
      "==============================================================================\n",
      "\n",
      "Warnings:\n",
      "[1] Standard Errors assume that the covariance matrix of the errors is correctly specified.\n",
      "[2] The smallest eigenvalue is 1.81e-33. This might indicate that there are\n",
      "strong multicollinearity problems or that the design matrix is singular.\n"
     ]
    },
    {
     "name": "stderr",
     "output_type": "stream",
     "text": [
      "C:\\Users\\moriya\\Anaconda3\\lib\\site-packages\\scipy\\stats\\stats.py:1394: UserWarning: kurtosistest only valid for n>=20 ... continuing anyway, n=18\n",
      "  \"anyway, n=%i\" % int(n))\n"
     ]
    }
   ],
   "source": [
    "#バブル崩壊前\n",
    "port_b=port[:'1990/1/1']\n",
    "model_b=sm.OLS(port_b.n225,port_b.iloc[0:,1:])\n",
    "results_b=model_b.fit()\n",
    "print(results_b.summary())"
   ]
  },
  {
   "cell_type": "code",
   "execution_count": 18,
   "metadata": {},
   "outputs": [
    {
     "data": {
      "text/plain": [
       "<matplotlib.legend.Legend at 0x2c59997f7b8>"
      ]
     },
     "execution_count": 18,
     "metadata": {},
     "output_type": "execute_result"
    },
    {
     "data": {
      "image/png": "[encoded data removed]",
      "text/plain": [
       "<Figure size 432x288 with 2 Axes>"
      ]
     },
     "metadata": {},
     "output_type": "display_data"
    }
   ],
   "source": [
    "#バブル崩壊前のグラフ\n",
    "f,ax = plt.subplots()#２軸のグラフの準備\n",
    "(port[:'1990/1/1'].gdpjpy-24).plot(label='gdp',linestyle=\"--\",ax=ax)\n",
    "port[:'1990/1/1'].n225.plot(label='n225',ax=ax)\n",
    "ax2=ax.twinx()#２軸目をax2として設定\n",
    "(port[:'1990/1/1'].workpop).plot(label='workpop',style='o',ax=ax2)\n",
    "#書籍のグラフはworkpopから8.5引いてしまっているので、こちらが正しいグラフです。\n",
    "results_b.fittedvalues.plot(label='fitted',style=':',ax=ax)\n",
    "ax.set_ylabel('log Nikkei225 index')#1軸目にラベルを設定\n",
    "ax2.set_ylabel('workshop')#2軸目にラベルを設定\n",
    "ax.legend(loc='lower right')\n",
    "ax2.legend(loc='upper left')"
   ]
  },
  {
   "cell_type": "code",
   "execution_count": 19,
   "metadata": {},
   "outputs": [
    {
     "data": {
      "text/plain": [
       "<matplotlib.legend.Legend at 0x2c5997d9b70>"
      ]
     },
     "execution_count": 19,
     "metadata": {},
     "output_type": "execute_result"
    },
    {
     "data": {
      "image/png": "[encoded data removed]",
      "text/plain": [
       "<Figure size 432x288 with 1 Axes>"
      ]
     },
     "metadata": {},
     "output_type": "display_data"
    }
   ],
   "source": [
    "#バブル崩壊前：ヒストグラム\n",
    "results_b.resid.hist(label='residual',color='yellow')\n",
    "plt.xlabel('residual:gdp vs work population')\n",
    "plt.ylabel('frequency')\n",
    "plt.legend(loc='upper right')"
   ]
  },
  {
   "cell_type": "code",
   "execution_count": 20,
   "metadata": {},
   "outputs": [
    {
     "name": "stdout",
     "output_type": "stream",
     "text": [
      "                            OLS Regression Results                            \n",
      "==============================================================================\n",
      "Dep. Variable:                   n225   R-squared:                       0.030\n",
      "Model:                            OLS   Adj. R-squared:                 -0.007\n",
      "Method:                 Least Squares   F-statistic:                    0.8078\n",
      "Date:                Tue, 25 Dec 2018   Prob (F-statistic):              0.377\n",
      "Time:                        13:34:32   Log-Likelihood:                -6.5363\n",
      "No. Observations:                  28   AIC:                             17.07\n",
      "Df Residuals:                      26   BIC:                             19.74\n",
      "Df Model:                           1                                         \n",
      "Covariance Type:            nonrobust                                         \n",
      "==============================================================================\n",
      "                 coef    std err          t      P>|t|      [0.025      0.975]\n",
      "------------------------------------------------------------------------------\n",
      "const        -10.9786     22.902     -0.479      0.636     -58.054      36.097\n",
      "workpop        0.3039      0.338      0.899      0.377      -0.391       0.999\n",
      "gdpjpy         0.3039      0.338      0.899      0.377      -0.391       0.999\n",
      "==============================================================================\n",
      "Omnibus:                        1.774   Durbin-Watson:                   0.499\n",
      "Prob(Omnibus):                  0.412   Jarque-Bera (JB):                1.090\n",
      "Skew:                          -0.113   Prob(JB):                        0.580\n",
      "Kurtosis:                       2.060   Cond. No.                     4.08e+18\n",
      "==============================================================================\n",
      "\n",
      "Warnings:\n",
      "[1] Standard Errors assume that the covariance matrix of the errors is correctly specified.\n",
      "[2] The smallest eigenvalue is 3.86e-33. This might indicate that there are\n",
      "strong multicollinearity problems or that the design matrix is singular.\n"
     ]
    }
   ],
   "source": [
    "#バブル崩壊後\n",
    "port_a=port['1990/1/1':]\n",
    "results_a=(sm.OLS(port_a.n225,port_a.iloc[0:,1:])).fit()\n",
    "print(results_a.summary())"
   ]
  },
  {
   "cell_type": "code",
   "execution_count": 21,
   "metadata": {},
   "outputs": [
    {
     "name": "stdout",
     "output_type": "stream",
     "text": [
      "                            OLS Regression Results                            \n",
      "==============================================================================\n",
      "Dep. Variable:                   n225   R-squared:                       0.563\n",
      "Model:                            OLS   Adj. R-squared:                  0.543\n",
      "Method:                 Least Squares   F-statistic:                     27.70\n",
      "Date:                Tue, 25 Dec 2018   Prob (F-statistic):           1.86e-08\n",
      "Time:                        13:34:33   Log-Likelihood:                -18.755\n",
      "No. Observations:                  46   AIC:                             43.51\n",
      "Df Residuals:                      43   BIC:                             49.00\n",
      "Df Model:                           2                                         \n",
      "Covariance Type:            nonrobust                                         \n",
      "==============================================================================\n",
      "                 coef    std err          t      P>|t|      [0.025      0.975]\n",
      "------------------------------------------------------------------------------\n",
      "const        -24.7974      9.686     -2.560      0.014     -44.331      -5.264\n",
      "workpop        0.4976      0.125      3.995      0.000       0.246       0.749\n",
      "gdpjpy         0.4976      0.125      3.995      0.000       0.246       0.749\n",
      "fx             0.1632      0.298      0.548      0.587      -0.438       0.764\n",
      "==============================================================================\n",
      "Omnibus:                        7.114   Durbin-Watson:                   0.365\n",
      "Prob(Omnibus):                  0.029   Jarque-Bera (JB):                6.187\n",
      "Skew:                           0.870   Prob(JB):                       0.0454\n",
      "Kurtosis:                       3.450   Cond. No.                     2.26e+18\n",
      "==============================================================================\n",
      "\n",
      "Warnings:\n",
      "[1] Standard Errors assume that the covariance matrix of the errors is correctly specified.\n",
      "[2] The smallest eigenvalue is 2.06e-32. This might indicate that there are\n",
      "strong multicollinearity problems or that the design matrix is singular.\n"
     ]
    }
   ],
   "source": [
    "import pandas as pd\n",
    "lnn225 = np.log(pdr.DataReader(\"NIKKEI225\", 'fred',start,end).dropna())\n",
    "lnn225=lnn225.resample('A',loffset='-1d').last().dropna()\n",
    "lnfx=np.log(fx)\n",
    "port1=pd.concat([lnn225,x,gdpjpy,lnfx],axis=1).dropna()\n",
    "port1.columns=[\"n225\",\"const\",\"workpop\",\"gdpjpy\",\"fx\"]\n",
    "model1=sm.OLS(port1.n225,port1.iloc[0:,1:])\n",
    "results1=model1.fit()\n",
    "print(results1.summary())"
   ]
  },
  {
   "cell_type": "code",
   "execution_count": 22,
   "metadata": {},
   "outputs": [
    {
     "name": "stdout",
     "output_type": "stream",
     "text": [
      "                            OLS Regression Results                            \n",
      "==============================================================================\n",
      "Dep. Variable:                   n225   R-squared:                       0.314\n",
      "Model:                            OLS   Adj. R-squared:                  0.259\n",
      "Method:                 Least Squares   F-statistic:                     5.723\n",
      "Date:                Tue, 25 Dec 2018   Prob (F-statistic):            0.00899\n",
      "Time:                        13:34:33   Log-Likelihood:                -1.6876\n",
      "No. Observations:                  28   AIC:                             9.375\n",
      "Df Residuals:                      25   BIC:                             13.37\n",
      "Df Model:                           2                                         \n",
      "Covariance Type:            nonrobust                                         \n",
      "==============================================================================\n",
      "                 coef    std err          t      P>|t|      [0.025      0.975]\n",
      "------------------------------------------------------------------------------\n",
      "const          0.2185     19.948      0.011      0.991     -40.865      41.302\n",
      "workpop        0.0532      0.300      0.177      0.861      -0.565       0.672\n",
      "gdpjpy         0.0532      0.300      0.177      0.861      -0.565       0.672\n",
      "fx             1.2316      0.383      3.217      0.004       0.443       2.020\n",
      "==============================================================================\n",
      "Omnibus:                        2.597   Durbin-Watson:                   0.765\n",
      "Prob(Omnibus):                  0.273   Jarque-Bera (JB):                1.604\n",
      "Skew:                          -0.579   Prob(JB):                        0.448\n",
      "Kurtosis:                       3.188   Cond. No.                     4.71e+18\n",
      "==============================================================================\n",
      "\n",
      "Warnings:\n",
      "[1] Standard Errors assume that the covariance matrix of the errors is correctly specified.\n",
      "[2] The smallest eigenvalue is 2.93e-33. This might indicate that there are\n",
      "strong multicollinearity problems or that the design matrix is singular.\n"
     ]
    }
   ],
   "source": [
    "#バブル崩壊後：要素にドル円の為替レートを追加\n",
    "port1_a=port1['1990/1/1':]\n",
    "results1_a=(sm.OLS(port1_a.n225,port1_a.iloc[0:,1:])).fit()\n",
    "print(results1_a.summary())"
   ]
  },
  {
   "cell_type": "code",
   "execution_count": 23,
   "metadata": {},
   "outputs": [
    {
     "data": {
      "text/plain": [
       "<matplotlib.legend.Legend at 0x2c599e692e8>"
      ]
     },
     "execution_count": 23,
     "metadata": {},
     "output_type": "execute_result"
    },
    {
     "data": {
      "image/png": "[encoded data removed]",
      "text/plain": [
       "<Figure size 432x288 with 1 Axes>"
      ]
     },
     "metadata": {},
     "output_type": "display_data"
    }
   ],
   "source": [
    "##バブル崩壊後のグラフ：ドル円の為替レート\n",
    "(port1['1990/1/1':].fx+5).plot(label='fx',linestyle=\"--\")\n",
    "port1['1990/1/1':].n225.plot(label='n225')\n",
    "results1_a.fittedvalues.plot(label='fitted',style=':')\n",
    "plt.ylabel('log Nikkei225 Index')\n",
    "plt.legend(loc='lower left')"
   ]
  },
  {
   "cell_type": "code",
   "execution_count": 24,
   "metadata": {},
   "outputs": [
    {
     "name": "stdout",
     "output_type": "stream",
     "text": [
      "R-squared:  0.10945692282651309  F-pvalue:  0.6664878883934491  AIC:  -3.4324485033603764  BIC:  -2.5246932243782387\n",
      "pvalues: \n",
      "const      0.226344\n",
      "workpop    0.403921\n",
      "gdpjpy     0.403921\n",
      "fx         0.921207\n",
      "dtype: float64\n",
      "jbpv:  0.5607629226319255\n"
     ]
    }
   ],
   "source": [
    "#バブル崩壊後：細分化\n",
    "def report(port):\n",
    "    results1_a=(sm.OLS(port1_a.n225,port1_a.iloc[0:,1:]))\\\n",
    "    .fit()\n",
    "    print(\"R-squared: \",results1_a.rsquared,\" F-pvalue: \",results1_a.f_pvalue,\" AIC: \"\\\n",
    "          ,results1_a.aic,\" BIC: \",results1_a.bic)\n",
    "    print(\"pvalues: \")\n",
    "    print(results1_a.pvalues)\n",
    "    from statsmodels.compat import lzip\n",
    "    import statsmodels.stats.api as sms\n",
    "    test=sms.jarque_bera(results1_a.resid)\n",
    "    print(\"jbpv: \",test[1])\n",
    "port1_a=port1['1990/1/1':'2000/1/1']\n",
    "report(port1_a)"
   ]
  },
  {
   "cell_type": "code",
   "execution_count": 25,
   "metadata": {},
   "outputs": [
    {
     "name": "stdout",
     "output_type": "stream",
     "text": [
      "R-squared:  0.47144122280615364  F-pvalue:  0.20311089631688484  AIC:  0.01971462898973897  BIC:  0.25803925402924577\n",
      "pvalues: \n",
      "const      0.116574\n",
      "workpop    0.088538\n",
      "gdpjpy     0.088538\n",
      "fx         0.203805\n",
      "dtype: float64\n",
      "jbpv:  0.6006732800781747\n"
     ]
    }
   ],
   "source": [
    "#バブル崩壊後：細分化2\n",
    "port1_a=port1.loc['2000/1/1':'2008/1/1']\n",
    "report(port1_a)"
   ]
  },
  {
   "cell_type": "code",
   "execution_count": 26,
   "metadata": {},
   "outputs": [
    {
     "name": "stdout",
     "output_type": "stream",
     "text": [
      "R-squared:  0.8727442143193515  F-pvalue:  0.0007351422416556264  AIC:  -7.309094939726791  BIC:  -6.401339660744653\n",
      "pvalues: \n",
      "const      0.314201\n",
      "workpop    0.311128\n",
      "gdpjpy     0.311128\n",
      "fx         0.014299\n",
      "dtype: float64\n",
      "jbpv:  0.700626843029715\n"
     ]
    }
   ],
   "source": [
    "#バブル崩壊後：細分化3\n",
    "port1_a=port1.loc['2008/1/1':]\n",
    "report(port1_a)"
   ]
  },
  {
   "cell_type": "code",
   "execution_count": null,
   "metadata": {},
   "outputs": [],
   "source": []
  }
 ],
 "metadata": {
  "anaconda-cloud": {},
  "kernelspec": {
   "display_name": "Python 3",
   "language": "python",
   "name": "python3"
  },
  "language_info": {
   "codemirror_mode": {
    "name": "ipython",
    "version": 3
   },
   "file_extension": ".py",
   "mimetype": "text/x-python",
   "name": "python",
   "nbconvert_exporter": "python",
   "pygments_lexer": "ipython3",
   "version": "3.6.5"
  }
 },
 "nbformat": 4,
 "nbformat_minor": 1
}
