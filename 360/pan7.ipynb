{
 "cells": [
  {
   "cell_type": "markdown",
   "metadata": {},
   "source": [
    "# 第7章 確率的トレンドとは何か？\n",
    "## 7.4 ランダムウォークの判定"
   ]
  },
  {
   "cell_type": "code",
   "execution_count": 1,
   "metadata": {},
   "outputs": [
    {
     "name": "stderr",
     "output_type": "stream",
     "text": [
      "C:\\Users\\moriya\\Anaconda3\\lib\\site-packages\\statsmodels\\compat\\pandas.py:56: FutureWarning: The pandas.core.datetools module is deprecated and will be removed in a future version. Please use the pandas.tseries module instead.\n",
      "  from pandas.core import datetools\n"
     ]
    }
   ],
   "source": [
    "%matplotlib inline\n",
    "import matplotlib.pyplot as plt\n",
    "import statsmodels.api as sm\n",
    "import pandas_datareader.data as web\n",
    "import numpy as np\n",
    "end='2017/12/30'\n",
    "lnn225 = np.log(web.DataReader(\"NIKKEI225\", 'fred',\"1949/5/16\",end)).dropna()"
   ]
  },
  {
   "cell_type": "code",
   "execution_count": 2,
   "metadata": {},
   "outputs": [
    {
     "name": "stdout",
     "output_type": "stream",
     "text": [
      "2.361830813961646\n",
      "0.9968769754542945\n",
      "38\n",
      "17038\n",
      "{'1%': -2.565871236816357, '5%': -1.9410157763465283, '10%': -1.6168044206599144}\n"
     ]
    }
   ],
   "source": [
    "print(sm.tsa.adfuller(lnn225.NIKKEI225,regression='nc')[0])#検定統計量\n",
    "print(sm.tsa.adfuller(lnn225.NIKKEI225,regression='nc')[1])#p-値\n",
    "print(sm.tsa.adfuller(lnn225.NIKKEI225,regression='nc')[2])#ラグの数\n",
    "print(sm.tsa.adfuller(lnn225.NIKKEI225,regression='nc')[3])#データの数\n",
    "print(sm.tsa.adfuller(lnn225.NIKKEI225,regression='nc')[4])#臨界値"
   ]
  },
  {
   "cell_type": "code",
   "execution_count": 3,
   "metadata": {},
   "outputs": [
    {
     "name": "stdout",
     "output_type": "stream",
     "text": [
      "0.796845172199895\n"
     ]
    }
   ],
   "source": [
    "print(sm.tsa.adfuller(lnn225.NIKKEI225,regression='ct')[1])"
   ]
  },
  {
   "cell_type": "code",
   "execution_count": 4,
   "metadata": {},
   "outputs": [
    {
     "name": "stdout",
     "output_type": "stream",
     "text": [
      "0.13620836082381715\n"
     ]
    }
   ],
   "source": [
    "print(sm.tsa.adfuller(lnn225.NIKKEI225,regression='c')[1])"
   ]
  },
  {
   "cell_type": "code",
   "execution_count": 5,
   "metadata": {},
   "outputs": [
    {
     "name": "stdout",
     "output_type": "stream",
     "text": [
      "17050\n"
     ]
    }
   ],
   "source": [
    "print(sm.tsa.adfuller(lnn225.NIKKEI225,regression='c')[3])"
   ]
  },
  {
   "cell_type": "code",
   "execution_count": 6,
   "metadata": {},
   "outputs": [
    {
     "name": "stdout",
     "output_type": "stream",
     "text": [
      "{'1%': -3.430733594415799, '5%': -2.8617095336343805, '10%': -2.5668602384018024}\n"
     ]
    }
   ],
   "source": [
    "print(sm.tsa.adfuller(lnn225.NIKKEI225,regression='c')[4])"
   ]
  },
  {
   "cell_type": "code",
   "execution_count": 7,
   "metadata": {},
   "outputs": [
    {
     "name": "stdout",
     "output_type": "stream",
     "text": [
      "(-2.4198635880674546, 0.13620836082381715)\n"
     ]
    }
   ],
   "source": [
    "print(sm.tsa.adfuller(lnn225.NIKKEI225,regression='c')[:2])"
   ]
  },
  {
   "cell_type": "code",
   "execution_count": 8,
   "metadata": {},
   "outputs": [
    {
     "name": "stdout",
     "output_type": "stream",
     "text": [
      "0.9968769754542945\n"
     ]
    }
   ],
   "source": [
    "print(sm.tsa.adfuller(lnn225.NIKKEI225,regression='nc')[1])"
   ]
  },
  {
   "cell_type": "code",
   "execution_count": 9,
   "metadata": {},
   "outputs": [
    {
     "name": "stdout",
     "output_type": "stream",
     "text": [
      "0.5043386679704388\n"
     ]
    }
   ],
   "source": [
    "print(sm.tsa.adfuller(lnn225.NIKKEI225.loc[:'1954/11/30'],regression='ct')[1])"
   ]
  },
  {
   "cell_type": "code",
   "execution_count": 10,
   "metadata": {},
   "outputs": [
    {
     "name": "stdout",
     "output_type": "stream",
     "text": [
      "0.9030869245267042\n"
     ]
    }
   ],
   "source": [
    "print(sm.tsa.adfuller(lnn225.NIKKEI225.loc[:'1954/11/30'],regression='c')[1])"
   ]
  },
  {
   "cell_type": "code",
   "execution_count": 11,
   "metadata": {},
   "outputs": [
    {
     "name": "stdout",
     "output_type": "stream",
     "text": [
      "0.8958220015711222\n"
     ]
    }
   ],
   "source": [
    "print(sm.tsa.adfuller(lnn225.NIKKEI225.loc[:'1954/11/30'],regression='nc')[1])"
   ]
  },
  {
   "cell_type": "code",
   "execution_count": 12,
   "metadata": {},
   "outputs": [
    {
     "name": "stdout",
     "output_type": "stream",
     "text": [
      "0.615588208256234\n"
     ]
    }
   ],
   "source": [
    "print(sm.tsa.adfuller(lnn225.NIKKEI225.loc['1954/12/1':'1971/12/31'],regression='ct')[1])"
   ]
  },
  {
   "cell_type": "code",
   "execution_count": 13,
   "metadata": {},
   "outputs": [
    {
     "name": "stdout",
     "output_type": "stream",
     "text": [
      "0.4800438633314268\n"
     ]
    }
   ],
   "source": [
    "print(sm.tsa.adfuller(lnn225.NIKKEI225.loc['1954/12/1':'1971/12/31'],regression='c')[1])"
   ]
  },
  {
   "cell_type": "code",
   "execution_count": 14,
   "metadata": {},
   "outputs": [
    {
     "name": "stdout",
     "output_type": "stream",
     "text": [
      "0.9996897545994142\n"
     ]
    }
   ],
   "source": [
    "print(sm.tsa.adfuller(lnn225.NIKKEI225.loc['1954/12/1':'1971/12/31'],regression='nc')[1])"
   ]
  },
  {
   "cell_type": "code",
   "execution_count": 15,
   "metadata": {},
   "outputs": [
    {
     "name": "stdout",
     "output_type": "stream",
     "text": [
      "0.840240937288735\n"
     ]
    }
   ],
   "source": [
    "print(sm.tsa.adfuller(lnn225.NIKKEI225.loc['1972/1/1':'1986/11/30'],regression='ct')[1])"
   ]
  },
  {
   "cell_type": "code",
   "execution_count": 16,
   "metadata": {},
   "outputs": [
    {
     "name": "stdout",
     "output_type": "stream",
     "text": [
      "0.9617553773603686\n"
     ]
    }
   ],
   "source": [
    "print(sm.tsa.adfuller(lnn225.NIKKEI225.loc['1972/1/1':'1986/11/30'],regression='c')[1])"
   ]
  },
  {
   "cell_type": "code",
   "execution_count": 17,
   "metadata": {},
   "outputs": [
    {
     "name": "stdout",
     "output_type": "stream",
     "text": [
      "0.9999969918866995\n"
     ]
    }
   ],
   "source": [
    "print(sm.tsa.adfuller(lnn225.NIKKEI225.loc['1972/1/1':'1986/11/30'],regression='nc')[1])"
   ]
  },
  {
   "cell_type": "code",
   "execution_count": 18,
   "metadata": {},
   "outputs": [
    {
     "name": "stdout",
     "output_type": "stream",
     "text": [
      "0.31237826348543585\n"
     ]
    }
   ],
   "source": [
    "print(sm.tsa.adfuller(lnn225.NIKKEI225.loc['1986/12/1':'1989/12/31'],regression='ct')[1])"
   ]
  },
  {
   "cell_type": "code",
   "execution_count": 19,
   "metadata": {},
   "outputs": [
    {
     "name": "stdout",
     "output_type": "stream",
     "text": [
      "0.7683779392790011\n"
     ]
    }
   ],
   "source": [
    "print(sm.tsa.adfuller(lnn225.NIKKEI225.loc['1986/12/1':'1989/12/31'],regression='c')[1])"
   ]
  },
  {
   "cell_type": "code",
   "execution_count": 20,
   "metadata": {},
   "outputs": [
    {
     "name": "stdout",
     "output_type": "stream",
     "text": [
      "0.9995251300452263\n"
     ]
    }
   ],
   "source": [
    "print(sm.tsa.adfuller(lnn225.NIKKEI225.loc['1986/12/1':'1989/12/31'],regression='nc')[1])"
   ]
  },
  {
   "cell_type": "code",
   "execution_count": 21,
   "metadata": {},
   "outputs": [
    {
     "name": "stdout",
     "output_type": "stream",
     "text": [
      "0.4081683478191848\n"
     ]
    }
   ],
   "source": [
    "print(sm.tsa.adfuller(lnn225.NIKKEI225.loc['1986/12/1':'1993/10/30'],regression='ct')[1])"
   ]
  },
  {
   "cell_type": "code",
   "execution_count": 22,
   "metadata": {},
   "outputs": [
    {
     "name": "stdout",
     "output_type": "stream",
     "text": [
      "0.6141943333114518\n"
     ]
    }
   ],
   "source": [
    "print(sm.tsa.adfuller(lnn225.NIKKEI225.loc['1986/12/1':'1993/10/30'],regression='c')[1])"
   ]
  },
  {
   "cell_type": "code",
   "execution_count": 23,
   "metadata": {},
   "outputs": [
    {
     "name": "stdout",
     "output_type": "stream",
     "text": [
      "0.714090772219617\n"
     ]
    }
   ],
   "source": [
    "print(sm.tsa.adfuller(lnn225.NIKKEI225.loc['1986/12/1':'1993/10/30'],regression='nc')[1])"
   ]
  },
  {
   "cell_type": "code",
   "execution_count": 24,
   "metadata": {},
   "outputs": [
    {
     "name": "stdout",
     "output_type": "stream",
     "text": [
      "0.6200868232552139\n"
     ]
    }
   ],
   "source": [
    "print(sm.tsa.adfuller(lnn225.NIKKEI225.loc[:'1993/10/30'],regression='ct')[1])"
   ]
  },
  {
   "cell_type": "code",
   "execution_count": 25,
   "metadata": {},
   "outputs": [
    {
     "name": "stdout",
     "output_type": "stream",
     "text": [
      "0.6520083640509122\n"
     ]
    }
   ],
   "source": [
    "print(sm.tsa.adfuller(lnn225.NIKKEI225.loc[:'1993/10/30'],regression='c')[1])"
   ]
  },
  {
   "cell_type": "code",
   "execution_count": 26,
   "metadata": {},
   "outputs": [
    {
     "name": "stdout",
     "output_type": "stream",
     "text": [
      "0.999821116797176\n"
     ]
    }
   ],
   "source": [
    "print(sm.tsa.adfuller(lnn225.NIKKEI225.loc[:'1993/10/30'],regression='nc')[1])"
   ]
  },
  {
   "cell_type": "code",
   "execution_count": 27,
   "metadata": {},
   "outputs": [
    {
     "name": "stdout",
     "output_type": "stream",
     "text": [
      "0.8897077994977878\n"
     ]
    }
   ],
   "source": [
    "print(sm.tsa.adfuller(lnn225.NIKKEI225.loc['1993/10/30':],regression='ct')[1])"
   ]
  },
  {
   "cell_type": "code",
   "execution_count": 28,
   "metadata": {},
   "outputs": [
    {
     "name": "stdout",
     "output_type": "stream",
     "text": [
      "0.509743244216993\n"
     ]
    }
   ],
   "source": [
    "print(sm.tsa.adfuller(lnn225.NIKKEI225.loc['1993/10/30':],regression='c')[1])"
   ]
  },
  {
   "cell_type": "code",
   "execution_count": 29,
   "metadata": {},
   "outputs": [
    {
     "name": "stdout",
     "output_type": "stream",
     "text": [
      "0.7299929655705056\n"
     ]
    }
   ],
   "source": [
    "print(sm.tsa.adfuller(lnn225.NIKKEI225.loc['1993/10/30':],regression='nc')[1])"
   ]
  },
  {
   "cell_type": "code",
   "execution_count": 30,
   "metadata": {},
   "outputs": [
    {
     "name": "stdout",
     "output_type": "stream",
     "text": [
      "0.07395551634727046\n"
     ]
    }
   ],
   "source": [
    "print(sm.tsa.adfuller(lnn225.NIKKEI225.loc['1990/1/1':'1992/8/31'],regression='nc')[1])"
   ]
  },
  {
   "cell_type": "code",
   "execution_count": 31,
   "metadata": {},
   "outputs": [
    {
     "name": "stdout",
     "output_type": "stream",
     "text": [
      "0.4428061763549294\n"
     ]
    }
   ],
   "source": [
    "print(sm.tsa.adfuller(lnn225.NIKKEI225.loc['1990/1/1':'1992/8/31'],regression='c')[1])"
   ]
  },
  {
   "cell_type": "code",
   "execution_count": 32,
   "metadata": {},
   "outputs": [
    {
     "name": "stdout",
     "output_type": "stream",
     "text": [
      "0.32341463311277185\n"
     ]
    }
   ],
   "source": [
    "print(sm.tsa.adfuller(lnn225.NIKKEI225.loc['1990/1/1':'1992/8/31'],regression='ct')[1])"
   ]
  },
  {
   "cell_type": "code",
   "execution_count": 33,
   "metadata": {},
   "outputs": [
    {
     "name": "stdout",
     "output_type": "stream",
     "text": [
      "without drift   2.8308544317879348e-05\n",
      "with drift   0.0015130273381139538 -0.00014520004266660382\n",
      "with drift + time trend   0.0016885747083512444 -0.0001771150695685126 1.1062080558710088e-08\n"
     ]
    }
   ],
   "source": [
    "z=lnn225\n",
    "y=z.diff().dropna()\n",
    "x=z.shift(1).dropna()\n",
    "model=sm.OLS(y,x)\n",
    "results=model.fit()\n",
    "print(\"without drift  \",results.params[0])\n",
    "x=sm.add_constant(x)\n",
    "model=sm.OLS(y,x)\n",
    "results=model.fit()\n",
    "print(\"with drift  \",results.params[0],results.params[1])\n",
    "x[\"t\"]=range(len(y))\n",
    "model=sm.OLS(y,x)\n",
    "results=model.fit()\n",
    "print(\"with drift + time trend  \",results.params[0],results.params[1],results.params[2])"
   ]
  },
  {
   "cell_type": "markdown",
   "metadata": {},
   "source": [
    "##### 結果の解説\n",
    "\n",
    "日経株価平均の1949年以降のデータを用いた単位根検定では結果は0.54である。これは危険域を10%とするとそれよりも高いので、帰無仮説を棄却できない。よってドリフト付きランダムウォークである。\n",
    "\n",
    "|景気(states)|期間-始点|終点                  |単純ランダムウォーク|ドリフト付き| ドリフト＋時間トレンド|\n",
    "|:---:|:---:|:---:                            |:---:|:---:|:---:|\n",
    "|全期間||                                     |0.99|0.09|0.84|\n",
    "|戦後復興期(recover)|1949/5/16|1954/11/30     |0.89|0.90|0.50|\n",
    "|高度経済成長期(growth)|1954/12/1|1971/12/31  |0.99|0.48|0.62|\n",
    "|安定期(stable)|1972/1/1|1986/11/30          |1.00|0.96|0.84|\n",
    "|バブル経済期(bubble)|1986/12/1|1993/10/30     |0.71|0.61|0.41|\n",
    "|バブルピークまで　　|1986/12/1|1989/12/31     |1.00|0.77|0.31|\n",
    "|経済変革期(reform)|1991/3/1|現在             |0.63|0.34|0.76|"
   ]
  },
  {
   "cell_type": "code",
   "execution_count": 34,
   "metadata": {},
   "outputs": [
    {
     "name": "stdout",
     "output_type": "stream",
     "text": [
      "nc   NIKKEI225    0.000082\n",
      "dtype: float64\n",
      "c   0.0010158563190787971 -0.0001076478061096753\n",
      "ct   0.0154558343789998 -0.003483327764963083 5.00736004787013e-06\n"
     ]
    }
   ],
   "source": [
    "z=lnn225.loc[:\"1954/11/30\"]\n",
    "y=z.diff().dropna()\n",
    "x=z.shift(1).dropna()\n",
    "model=sm.OLS(y,x)\n",
    "results=model.fit()\n",
    "print(\"nc  \",results.params)\n",
    "x=sm.add_constant(x)\n",
    "model=sm.OLS(y,x)\n",
    "results=model.fit()\n",
    "print(\"c  \",results.params[0],results.params[1])\n",
    "x[\"t\"]=range(len(y))\n",
    "model=sm.OLS(y,x)\n",
    "results=model.fit()\n",
    "print(\"ct  \",results.params[0],results.params[1],results.params[2])"
   ]
  },
  {
   "cell_type": "code",
   "execution_count": 35,
   "metadata": {},
   "outputs": [
    {
     "name": "stdout",
     "output_type": "stream",
     "text": [
      "nc   NIKKEI225    0.000068\n",
      "dtype: float64\n",
      "c   0.003545221183422876 -0.00043445204571642787\n",
      "ct   0.007763804026233959 -0.0011394052321703505 3.4186272877479296e-07\n"
     ]
    }
   ],
   "source": [
    "z=lnn225.loc[\"1954/11/30\":'1971/12/31']\n",
    "y=z.diff().dropna()\n",
    "x=z.shift(1).dropna()\n",
    "model=sm.OLS(y,x)\n",
    "results=model.fit()\n",
    "print(\"nc  \",results.params)\n",
    "x=sm.add_constant(x)\n",
    "model=sm.OLS(y,x)\n",
    "results=model.fit()\n",
    "print(\"c  \",results.params[0],results.params[1])\n",
    "x[\"t\"]=range(len(y))\n",
    "model=sm.OLS(y,x)\n",
    "results=model.fit()\n",
    "print(\"ct  \",results.params[0],results.params[1],results.params[2])"
   ]
  },
  {
   "cell_type": "code",
   "execution_count": 36,
   "metadata": {},
   "outputs": [
    {
     "name": "stdout",
     "output_type": "stream",
     "text": [
      "nc   NIKKEI225    0.000057\n",
      "dtype: float64\n",
      "c   0.0005944909970092972 -1.0333006186346563e-05\n",
      "ct   0.012677919948124259 -0.0015148449034600921 6.087432002879761e-07\n"
     ]
    }
   ],
   "source": [
    "z=lnn225.loc['1971/12/31':'1986/11/30']\n",
    "y=z.diff().dropna()\n",
    "x=z.shift(1).dropna()\n",
    "model=sm.OLS(y,x)\n",
    "results=model.fit()\n",
    "print(\"nc  \",results.params)\n",
    "x=sm.add_constant(x)\n",
    "model=sm.OLS(y,x)\n",
    "results=model.fit()\n",
    "print(\"c  \",results.params[0],results.params[1])\n",
    "x[\"t\"]=range(len(y))\n",
    "model=sm.OLS(y,x)\n",
    "results=model.fit()\n",
    "print(\"ct  \",results.params[0],results.params[1],results.params[2])"
   ]
  },
  {
   "cell_type": "code",
   "execution_count": 37,
   "metadata": {},
   "outputs": [
    {
     "name": "stdout",
     "output_type": "stream",
     "text": [
      "nc   NIKKEI225    0.000003\n",
      "dtype: float64\n",
      "c   0.022443821648993625 -0.0022164837215311634\n",
      "ct   0.0437321302035162 -0.004158909633476111 -1.944024637573225e-06\n"
     ]
    }
   ],
   "source": [
    "z=lnn225.loc['1986/11/30':'1993/10/31']\n",
    "y=z.diff().dropna()\n",
    "x=z.shift(1).dropna()\n",
    "model=sm.OLS(y,x)\n",
    "results=model.fit()\n",
    "print(\"nc  \",results.params)\n",
    "x=sm.add_constant(x)\n",
    "model=sm.OLS(y,x)\n",
    "results=model.fit()\n",
    "print(\"c  \",results.params[0],results.params[1])\n",
    "x[\"t\"]=range(len(y))\n",
    "model=sm.OLS(y,x)\n",
    "results=model.fit()\n",
    "print(\"ct  \",results.params[0],results.params[1],results.params[2])"
   ]
  },
  {
   "cell_type": "code",
   "execution_count": 38,
   "metadata": {},
   "outputs": [
    {
     "name": "stdout",
     "output_type": "stream",
     "text": [
      "nc   NIKKEI225    0.000096\n",
      "dtype: float64\n",
      "nc   -4690.719227375498\n",
      "nc   -4686.080659586331\n",
      "nc   0.0075452699572644555\n",
      "nc   0.006244542919200513\n",
      "nc   0.00012604520290183935\n",
      "nc   [79769.67617582]\n",
      "c   0.027357796331482893 -0.002581199554189786\n",
      "c   -4690.194921649443\n",
      "c   -4680.91778607111\n",
      "c   0.001793776010617365\n",
      "c   0.00048379408937149204\n",
      "c   0.0001259670713612881\n",
      "c   [8.05334306e+04 2.45603153e-01]\n",
      "ct   0.22786812894272376 -0.022869218461066845 1.7724839579406318e-05\n",
      "ct   -4696.349822253934\n",
      "ct   -4682.434118886435\n",
      "ct   0.01239192032541836\n",
      "ct   0.009796366896575925\n",
      "ct   0.00012479342603525405\n",
      "ct   [1.48417739e+08 1.89889943e+04 2.27656103e-02]\n"
     ]
    }
   ],
   "source": [
    "z=lnn225.loc['1986/11/30':'1989/12/31']\n",
    "y=z.diff().dropna()\n",
    "x=z.shift(1).dropna()\n",
    "model=sm.OLS(y,x)\n",
    "results=model.fit()\n",
    "print(\"nc  \",results.params)\n",
    "print(\"nc  \",results.aic)\n",
    "print(\"nc  \",results.bic)\n",
    "print(\"nc  \",results.rsquared)\n",
    "print(\"nc  \",results.rsquared_adj)\n",
    "print(\"nc  \",results.mse_resid)\n",
    "print(\"nc  \",results.eigenvals)\n",
    "x=sm.add_constant(x)\n",
    "model=sm.OLS(y,x)\n",
    "results=model.fit()\n",
    "print(\"c  \",results.params[0],results.params[1])\n",
    "print(\"c  \",results.aic)\n",
    "print(\"c  \",results.bic)\n",
    "print(\"c  \",results.rsquared)\n",
    "print(\"c  \",results.rsquared_adj)\n",
    "print(\"c  \",results.mse_resid)\n",
    "print(\"c  \",results.eigenvals)\n",
    "x[\"t\"]=range(len(y))\n",
    "model=sm.OLS(y,x)\n",
    "results=model.fit()\n",
    "print(\"ct  \",results.params[0],results.params[1],results.params[2])\n",
    "print(\"ct  \",results.aic)\n",
    "print(\"ct  \",results.bic)\n",
    "print(\"ct  \",results.rsquared)\n",
    "print(\"ct  \",results.rsquared_adj)\n",
    "print(\"ct  \",results.mse_resid)\n",
    "print(\"ct  \",results.eigenvals)\n"
   ]
  },
  {
   "cell_type": "code",
   "execution_count": 39,
   "metadata": {},
   "outputs": [
    {
     "name": "stdout",
     "output_type": "stream",
     "text": [
      "nc   NIKKEI225    0.000002\n",
      "dtype: float64\n",
      "c   0.01151001902197395 -0.0012026888545815444\n",
      "ct   0.009991407373640829 -0.0010739076003083358 9.735325306615796e-08\n"
     ]
    }
   ],
   "source": [
    "z=lnn225.loc['1993/10/31':]\n",
    "y=z.diff().dropna()\n",
    "x=z.shift(1).dropna()\n",
    "model=sm.OLS(y,x)\n",
    "results=model.fit()\n",
    "print(\"nc  \",results.params)\n",
    "x=sm.add_constant(x)\n",
    "model=sm.OLS(y,x)\n",
    "results=model.fit()\n",
    "print(\"c  \",results.params[0],results.params[1])\n",
    "x[\"t\"]=range(len(y))\n",
    "model=sm.OLS(y,x)\n",
    "results=model.fit()\n",
    "print(\"ct  \",results.params[0],results.params[1],results.params[2])"
   ]
  },
  {
   "cell_type": "code",
   "execution_count": 40,
   "metadata": {},
   "outputs": [
    {
     "name": "stdout",
     "output_type": "stream",
     "text": [
      "nc   NIKKEI225   -0.000118\n",
      "dtype: float64\n",
      "c   0.055970670965774585 -0.00566027578102975\n",
      "ct   0.20701597961247167 -0.020029652526248172 -1.8352425875115453e-05\n"
     ]
    }
   ],
   "source": [
    "z=lnn225.loc['1990/1/1':'1992/8/31']\n",
    "y=z.diff().dropna()\n",
    "x=z.shift(1).dropna()\n",
    "model=sm.OLS(y,x)\n",
    "results=model.fit()\n",
    "print(\"nc  \",results.params)\n",
    "x=sm.add_constant(x)\n",
    "model=sm.OLS(y,x)\n",
    "results=model.fit()\n",
    "print(\"c  \",results.params[0],results.params[1])\n",
    "x[\"t\"]=range(len(y))\n",
    "model=sm.OLS(y,x)\n",
    "results=model.fit()\n",
    "print(\"ct  \",results.params[0],results.params[1],results.params[2])"
   ]
  },
  {
   "cell_type": "markdown",
   "metadata": {},
   "source": [
    "## 7.5 確定的トレンドと確率的トレンド"
   ]
  },
  {
   "cell_type": "code",
   "execution_count": 41,
   "metadata": {},
   "outputs": [
    {
     "data": {
      "text/plain": [
       "Text(0,0.5,'log(n225 index)')"
      ]
     },
     "execution_count": 41,
     "metadata": {},
     "output_type": "execute_result"
    },
    {
     "data": {
      "image/png": "[encoded data removed]",
      "text/plain": [
       "<matplotlib.figure.Figure at 0x2874bebf358>"
      ]
     },
     "metadata": {},
     "output_type": "display_data"
    }
   ],
   "source": [
    "%matplotlib inline\n",
    "import matplotlib.pyplot as plt\n",
    "import statsmodels.api as sm\n",
    "import pandas_datareader.data as pdr\n",
    "import numpy as np\n",
    "end='2016/9/30'\n",
    "lnw5000 = np.log(web.DataReader(\"WILL5000INDFC\", 'fred',\"1949/5/16\",end)).dropna()\n",
    "lnw5000.columns=['Close']\n",
    "plt.plot(lnw5000.Close,color='hotpink')\n",
    "lnw5000[\"t\"]=range(len(lnw5000))\n",
    "model=sm.OLS(lnw5000.Close,lnw5000.t)\n",
    "results=model.fit()\n",
    "results.fittedvalues.plot(label='prediction',style='--')\n",
    "plt.ylabel('log(n225 index)')"
   ]
  },
  {
   "cell_type": "code",
   "execution_count": 42,
   "metadata": {},
   "outputs": [
    {
     "data": {
      "text/plain": [
       "Text(0.5,0,'residual')"
      ]
     },
     "execution_count": 42,
     "metadata": {},
     "output_type": "execute_result"
    },
    {
     "data": {
      "image/png": "[encoded data removed]",
      "text/plain": [
       "<matplotlib.figure.Figure at 0x2875024aa90>"
      ]
     },
     "metadata": {},
     "output_type": "display_data"
    }
   ],
   "source": [
    "results.resid.hist(bins=50,color='lightgreen')\n",
    "plt.ylabel('frequency')\n",
    "plt.xlabel('residual')"
   ]
  },
  {
   "cell_type": "code",
   "execution_count": 43,
   "metadata": {},
   "outputs": [
    {
     "name": "stdout",
     "output_type": "stream",
     "text": [
      "                            OLS Regression Results                            \n",
      "==============================================================================\n",
      "Dep. Variable:                  Close   R-squared:                       0.967\n",
      "Model:                            OLS   Adj. R-squared:                  0.967\n",
      "Method:                 Least Squares   F-statistic:                 2.770e+05\n",
      "Date:                Thu, 29 Mar 2018   Prob (F-statistic):               0.00\n",
      "Time:                        12:27:50   Log-Likelihood:                -7929.6\n",
      "No. Observations:                9397   AIC:                         1.586e+04\n",
      "Df Residuals:                    9396   BIC:                         1.587e+04\n",
      "Df Model:                           1                                         \n",
      "Covariance Type:            nonrobust                                         \n",
      "==============================================================================\n",
      "                 coef    std err          t      P>|t|      [0.025      0.975]\n",
      "------------------------------------------------------------------------------\n",
      "t              0.0006   1.07e-06    526.352      0.000       0.001       0.001\n",
      "==============================================================================\n",
      "Omnibus:                     2185.621   Durbin-Watson:                   0.000\n",
      "Prob(Omnibus):                  0.000   Jarque-Bera (JB):             1204.052\n",
      "Skew:                          -0.744   Prob(JB):                    3.50e-262\n",
      "Kurtosis:                       2.071   Cond. No.                         1.00\n",
      "==============================================================================\n",
      "\n",
      "Warnings:\n",
      "[1] Standard Errors assume that the covariance matrix of the errors is correctly specified.\n"
     ]
    }
   ],
   "source": [
    "print(results.summary())"
   ]
  }
 ],
 "metadata": {
  "anaconda-cloud": {},
  "kernelspec": {
   "display_name": "Python 3",
   "language": "python",
   "name": "python3"
  },
  "language_info": {
   "codemirror_mode": {
    "name": "ipython",
    "version": 3
   },
   "file_extension": ".py",
   "mimetype": "text/x-python",
   "name": "python",
   "nbconvert_exporter": "python",
   "pygments_lexer": "ipython3",
   "version": "3.6.4"
  }
 },
 "nbformat": 4,
 "nbformat_minor": 1
}
